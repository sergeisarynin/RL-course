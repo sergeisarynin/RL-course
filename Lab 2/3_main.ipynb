{
 "cells": [
  {
   "cell_type": "markdown",
   "metadata": {
    "id": "DgX0DPQVfFH_"
   },
   "source": [
    "This notebook is based on https://github.com/yandexdataschool/Practical_RL/blob/master/week04_approx_rl/homework_pytorch_main.ipynb"
   ]
  },
  {
   "cell_type": "markdown",
   "metadata": {
    "id": "jzdBcyY2fFID"
   },
   "source": [
    "# Deep Q-Network implementation.\n",
    "\n",
    "This homework shamelessly demands you to implement DQN — an approximate Q-learning algorithm with experience replay and target networks — and see if it works any better this way.\n",
    "\n",
    "Original paper:\n",
    "https://arxiv.org/pdf/1312.5602.pdf"
   ]
  },
  {
   "cell_type": "markdown",
   "metadata": {
    "id": "Y_PtZA6bfFIF"
   },
   "source": [
    "**This notebook is the main notebook.** Another notebook is given for debug (**2_debug**). The tasks are similar and share most of the code. The main difference is in environments. In main notebook it can take some 2 hours for the agent to start improving so it seems reasonable to launch the algorithm on a simpler env first. In debug one it is CartPole and it will train in several minutes.\n",
    "\n",
    "**We suggest the following pipeline:** First implement debug notebook then implement the main one."
   ]
  },
  {
   "cell_type": "code",
   "execution_count": 1,
   "metadata": {
    "colab": {
     "base_uri": "https://localhost:8080/"
    },
    "id": "ODIGIkHffFIH",
    "outputId": "40c44a75-b981-45c2-8543-83dd92480edd"
   },
   "outputs": [
    {
     "name": "stdout",
     "output_type": "stream",
     "text": [
      "Selecting previously unselected package xvfb.\n",
      "(Reading database ... 160690 files and directories currently installed.)\n",
      "Preparing to unpack .../xvfb_2%3a1.19.6-1ubuntu4.9_amd64.deb ...\n",
      "Unpacking xvfb (2:1.19.6-1ubuntu4.9) ...\n",
      "Setting up xvfb (2:1.19.6-1ubuntu4.9) ...\n",
      "Processing triggers for man-db (2.8.3-2ubuntu0.1) ...\n"
     ]
    }
   ],
   "source": [
    "import sys, os\n",
    "if \"google.colab\" in sys.modules and not os.path.exists(\".setup_complete\"):\n",
    "    !wget -q https://raw.githubusercontent.com/yandexdataschool/Practical_RL/master/setup_colab.sh -O- | bash\n",
    "        \n",
    "    !wget -q https://raw.githubusercontent.com/yandexdataschool/Practical_RL/master/week04_approx_rl/atari_wrappers.py\n",
    "    !wget -q https://raw.githubusercontent.com/yandexdataschool/Practical_RL/master/week04_approx_rl/utils.py\n",
    "    !wget -q https://raw.githubusercontent.com/yandexdataschool/Practical_RL/master/week04_approx_rl/replay_buffer.py\n",
    "    !wget -q https://raw.githubusercontent.com/yandexdataschool/Practical_RL/master/week04_approx_rl/framebuffer.py\n",
    "\n",
    "    !touch .setup_complete\n",
    "\n",
    "# This code creates a virtual display to draw game images on.\n",
    "# It will have no effect if your machine has a monitor.\n",
    "if type(os.environ.get(\"DISPLAY\")) is not str or len(os.environ.get(\"DISPLAY\")) == 0:\n",
    "    !bash ../xvfb start\n",
    "    os.environ[\"DISPLAY\"] = \":1\""
   ]
  },
  {
   "cell_type": "markdown",
   "metadata": {
    "id": "Wz69r8eifFII"
   },
   "source": [
    "__Frameworks__ - we'll accept this homework in any deep learning framework. This particular notebook was designed for PyTorch, but you find it easy to adapt it to almost any Python-based deep learning framework."
   ]
  },
  {
   "cell_type": "code",
   "execution_count": 2,
   "metadata": {
    "id": "Bp63QMB4fFIJ"
   },
   "outputs": [],
   "source": [
    "import random\n",
    "import numpy as np\n",
    "import torch\n",
    "import utils"
   ]
  },
  {
   "cell_type": "code",
   "execution_count": 3,
   "metadata": {
    "id": "C8DD6bJ5fFIJ"
   },
   "outputs": [],
   "source": [
    "import gym\n",
    "import numpy as np\n",
    "import matplotlib.pyplot as plt\n",
    "%matplotlib inline"
   ]
  },
  {
   "cell_type": "markdown",
   "metadata": {
    "id": "Wt7hJdcCfFIK"
   },
   "source": [
    "### Let's play some old videogames\n",
    "![img](https://github.com/yandexdataschool/Practical_RL/raw/master/yet_another_week/_resource/nerd.png)\n",
    "\n",
    "This time we're gonna apply approximate Q-learning to an Atari game called Breakout. It's not the hardest thing out there, but it's definitely way more complex than anything we tried before.\n"
   ]
  },
  {
   "cell_type": "code",
   "execution_count": 4,
   "metadata": {
    "id": "I0uA8nkAfFIL"
   },
   "outputs": [],
   "source": [
    "ENV_NAME = \"BreakoutNoFrameskip-v4\""
   ]
  },
  {
   "cell_type": "markdown",
   "metadata": {
    "id": "Ib7BS4ovfFIL"
   },
   "source": [
    "## Preprocessing"
   ]
  },
  {
   "cell_type": "markdown",
   "metadata": {
    "id": "KwYCazdIfFIM"
   },
   "source": [
    "Let's see what observations look like."
   ]
  },
  {
   "cell_type": "code",
   "execution_count": 5,
   "metadata": {
    "colab": {
     "base_uri": "https://localhost:8080/",
     "height": 520
    },
    "id": "o-0EZK3FfFIM",
    "outputId": "103d0321-20e1-45cd-dfd7-8821620dc19c"
   },
   "outputs": [
    {
     "data": {
      "image/png": "[encoded data removed]",
      "text/plain": [
       "<Figure size 1152x648 with 10 Axes>"
      ]
     },
     "metadata": {
      "needs_background": "light",
      "tags": []
     },
     "output_type": "display_data"
    }
   ],
   "source": [
    "env = gym.make(ENV_NAME)\n",
    "env.reset()\n",
    "\n",
    "n_cols = 5\n",
    "n_rows = 2\n",
    "fig = plt.figure(figsize=(16, 9))\n",
    "\n",
    "for row in range(n_rows):\n",
    "    for col in range(n_cols):\n",
    "        ax = fig.add_subplot(n_rows, n_cols, row * n_cols + col + 1)\n",
    "        ax.imshow(env.render(\"rgb_array\"))\n",
    "        env.step(env.action_space.sample())\n",
    "plt.show()"
   ]
  },
  {
   "cell_type": "markdown",
   "metadata": {
    "id": "R38EhZsVfFIN"
   },
   "source": [
    "**Let's play a little.**\n",
    "\n",
    "Pay attention to zoom and fps args of play function. Control: A, D, space."
   ]
  },
  {
   "cell_type": "code",
   "execution_count": 6,
   "metadata": {
    "id": "hqB2RCvQfFIO"
   },
   "outputs": [],
   "source": [
    "# # Does not work in Colab.\n",
    "# # Use KeyboardInterrupt (Kernel → Interrupt in Jupyter) to continue.\n",
    "\n",
    "#from gym.utils.play import play\n",
    "\n",
    "#play(env=gym.make(ENV_NAME), zoom=5, fps=30)"
   ]
  },
  {
   "cell_type": "markdown",
   "metadata": {
    "id": "HqGXLAgCfFIO"
   },
   "source": [
    "### Processing game image \n",
    "\n",
    "Raw Atari images are large, 210x160x3 by default. However, we don't need that level of detail in order to learn from them.\n",
    "\n",
    "We can thus save a lot of time by preprocessing game image, including\n",
    "* Resizing to a smaller shape, 64x64\n",
    "* Converting to grayscale\n",
    "* Cropping irrelevant image parts (top, bottom and edges)\n",
    "\n",
    "Also please keep one dimension for channel so that final shape would be 1x64x64.\n",
    "\n",
    "Tip: You can implement your own grayscale converter and assign a huge weight to the red channel. This dirty trick is not necessary but it will speed up learning."
   ]
  },
  {
   "cell_type": "code",
   "execution_count": 7,
   "metadata": {
    "id": "gIc6fZWffFIP"
   },
   "outputs": [],
   "source": [
    "from gym.core import ObservationWrapper\n",
    "from gym.spaces import Box\n",
    "from PIL import Image\n",
    "\n",
    "\n",
    "class PreprocessAtariObs(ObservationWrapper):\n",
    "    def __init__(self, env):\n",
    "        \"\"\"A gym wrapper that crops, scales image into the desired shapes and grayscales it.\"\"\"\n",
    "        ObservationWrapper.__init__(self, env)\n",
    "\n",
    "        self.img_size = (1, 64, 64)\n",
    "        self.observation_space = Box(0.0, 1.0, self.img_size)\n",
    "\n",
    "\n",
    "    def _to_gray_scale(self, rgb, channel_weights=[0.8, 0.1, 0.1]):\n",
    "        img = rgb * channel_weights\n",
    "        img = np.sum(img, axis=-1, dtype = np.float32)\n",
    "        img = np.reshape(img, self.img_size)\n",
    "        return img\n",
    "\n",
    "\n",
    "\n",
    "    def observation(self, img):\n",
    "        \"\"\"what happens to each observation\"\"\"\n",
    "\n",
    "        # Here's what you need to do:\n",
    "        #  * crop image, remove irrelevant parts\n",
    "        #  * resize image to self.img_size\n",
    "        #     (Use imresize from any library you want,\n",
    "        #      e.g. opencv, PIL, keras. Don't use skimage.imresize\n",
    "        #      because it is extremely slow.)\n",
    "        #  * cast image to grayscale\n",
    "        #  * convert image pixels to (0,1) range, float32 type\n",
    "        \n",
    "        img = Image.fromarray(np.uint8(img))\n",
    "        img = img.crop((8, 32, 152, 200))\n",
    "        img = img.resize((self.img_size[1],self.img_size[2]), resample=0)\n",
    "        img = self._to_gray_scale(np.array(img))\n",
    "        img = img / 255\n",
    "        \n",
    "        return img"
   ]
  },
  {
   "cell_type": "code",
   "execution_count": 8,
   "metadata": {
    "colab": {
     "base_uri": "https://localhost:8080/",
     "height": 488
    },
    "id": "-RqMAIEDfFIR",
    "outputId": "606ffb7b-b8ea-46ff-bdec-3ca48599af86"
   },
   "outputs": [
    {
     "name": "stdout",
     "output_type": "stream",
     "text": [
      "Formal tests seem fine. Here's an example of what you'll get.\n"
     ]
    },
    {
     "data": {
      "image/png": "[encoded data removed]",
      "text/plain": [
       "<Figure size 1152x648 with 10 Axes>"
      ]
     },
     "metadata": {
      "needs_background": "light",
      "tags": []
     },
     "output_type": "display_data"
    }
   ],
   "source": [
    "import gym\n",
    "# spawn game instance for tests\n",
    "env = gym.make(ENV_NAME)  # create raw env\n",
    "env = PreprocessAtariObs(env)\n",
    "observation_shape = env.observation_space.shape\n",
    "n_actions = env.action_space.n\n",
    "env.reset()\n",
    "obs, _, _, _ = env.step(env.action_space.sample())\n",
    "\n",
    "# test observation\n",
    "assert obs.ndim == 3, \"observation must be [channel, h, w] even if there's just one channel\"\n",
    "assert obs.shape == observation_shape, obs.shape\n",
    "assert obs.dtype == \"float32\"\n",
    "assert len(np.unique(obs)) > 2, \"your image must not be binary\"\n",
    "assert 0 <= np.min(obs) and np.max(\n",
    "    obs) <= 1, \"convert image pixels to [0,1] range\"\n",
    "\n",
    "assert np.max(obs) >= 0.5, \"It would be easier to see a brighter observation\"\n",
    "assert np.mean(obs) >= 0.1, \"It would be easier to see a brighter observation\"\n",
    "\n",
    "print(\"Formal tests seem fine. Here's an example of what you'll get.\")\n",
    "\n",
    "n_cols = 5\n",
    "n_rows = 2\n",
    "fig = plt.figure(figsize=(16, 9))\n",
    "obs = env.reset()\n",
    "for row in range(n_rows):\n",
    "    for col in range(n_cols):\n",
    "        ax = fig.add_subplot(n_rows, n_cols, row * n_cols + col + 1)\n",
    "        ax.imshow(obs[0, :, :], interpolation=\"none\", cmap='gray')\n",
    "        obs, _, _, _ = env.step(env.action_space.sample())\n",
    "plt.show()\n"
   ]
  },
  {
   "cell_type": "markdown",
   "metadata": {
    "id": "oOFy0oBJfFIS"
   },
   "source": [
    "### Wrapping."
   ]
  },
  {
   "cell_type": "markdown",
   "metadata": {
    "id": "a1LLNTnLfFIT"
   },
   "source": [
    "**About the game:** You have 5 lives and get points for breaking the wall. Higher bricks cost more than the lower ones. There are 4 actions: start game (should be called at the beginning and after each life is lost), move left, move right and do nothing. There are some common wrappers used for Atari environments."
   ]
  },
  {
   "cell_type": "code",
   "execution_count": 9,
   "metadata": {
    "id": "-4yt1jd7fFIU"
   },
   "outputs": [],
   "source": [
    "import atari_wrappers\n",
    "\n",
    "def PrimaryAtariWrap(env, clip_rewards=True):\n",
    "    assert \"NoFrameskip\" in env.spec.id\n",
    "\n",
    "    # This wrapper holds the same action for <skip> frames and outputs\n",
    "    # the maximal pixel value of 2 last frames (to handle blinking\n",
    "    # in some envs)\n",
    "    env = atari_wrappers.MaxAndSkipEnv(env, skip=4)\n",
    "\n",
    "    # This wrapper sends done=True when each life is lost\n",
    "    # (not all the 5 lives that are givern by the game rules).\n",
    "    # It should make easier for the agent to understand that losing is bad.\n",
    "    env = atari_wrappers.EpisodicLifeEnv(env)\n",
    "\n",
    "    # This wrapper laucnhes the ball when an episode starts.\n",
    "    # Without it the agent has to learn this action, too.\n",
    "    # Actually it can but learning would take longer.\n",
    "    env = atari_wrappers.FireResetEnv(env)\n",
    "\n",
    "    # This wrapper transforms rewards to {-1, 0, 1} according to their sign\n",
    "    if clip_rewards:\n",
    "        env = atari_wrappers.ClipRewardEnv(env)\n",
    "\n",
    "    # This wrapper is yours :)\n",
    "    env = PreprocessAtariObs(env)\n",
    "    return env"
   ]
  },
  {
   "cell_type": "markdown",
   "metadata": {
    "id": "2jnGOc2ufFIV"
   },
   "source": [
    "**Let's see if the game is still playable after applying the wrappers.**\n",
    "At playing the EpisodicLifeEnv wrapper seems not to work but actually it does (because after when life finishes a new ball is dropped automatically - it means that FireResetEnv wrapper understands that a new episode began)."
   ]
  },
  {
   "cell_type": "code",
   "execution_count": 10,
   "metadata": {
    "id": "ebODKuskfFIV"
   },
   "outputs": [],
   "source": [
    "# # Does not work in Colab.\n",
    "# # Use KeyboardInterrupt (Kernel → Interrupt in Jupyter) to continue.\n",
    "\n",
    "# from gym.utils.play import play\n",
    "\n",
    "# def make_play_env():\n",
    "#     env = gym.make(ENV_NAME)\n",
    "#     env = PrimaryAtariWrap(env)\n",
    "# # in PyTorch images have shape [c, h, w] instead of common [h, w, c]\n",
    "#     env = atari_wrappers.AntiTorchWrapper(env)\n",
    "#     return env\n",
    "\n",
    "# play(make_play_env(), zoom=10, fps=3)"
   ]
  },
  {
   "cell_type": "markdown",
   "metadata": {
    "id": "CH3oB2kFfFIW"
   },
   "source": [
    "### Frame buffer\n",
    "\n",
    "Our agent can only process one observation at a time, so we gotta make sure it contains enough information to find optimal actions. For instance, agent has to react to moving objects so it must be able to measure object's velocity.\n",
    "\n",
    "To do so, we introduce a buffer that stores 4 last images. This time everything is pre-implemented for you, not really by the staff of the course :)"
   ]
  },
  {
   "cell_type": "code",
   "execution_count": 11,
   "metadata": {
    "id": "6IKeML9_fFIW"
   },
   "outputs": [],
   "source": [
    "from framebuffer import FrameBuffer\n",
    "\n",
    "def make_env(clip_rewards=True, seed=None):\n",
    "    env = gym.make(ENV_NAME)  # create raw env\n",
    "    if seed is not None:\n",
    "        env.seed(seed)\n",
    "    env = PrimaryAtariWrap(env, clip_rewards)\n",
    "    env = FrameBuffer(env, n_frames=4, dim_order=\"pytorch\")\n",
    "    return env\n",
    "\n",
    "env = make_env()\n",
    "env.reset()\n",
    "n_actions = env.action_space.n\n",
    "state_shape = env.observation_space.shape"
   ]
  },
  {
   "cell_type": "code",
   "execution_count": 12,
   "metadata": {
    "colab": {
     "base_uri": "https://localhost:8080/",
     "height": 1000
    },
    "id": "hGa7C358fFIX",
    "outputId": "c5ab9c23-1a6c-41af-a2c3-78f6a8ae76c3"
   },
   "outputs": [
    {
     "data": {
      "image/png": "[encoded data removed]",
      "text/plain": [
       "<Figure size 864x720 with 1 Axes>"
      ]
     },
     "metadata": {
      "needs_background": "light",
      "tags": []
     },
     "output_type": "display_data"
    },
    {
     "data": {
      "image/png": "[encoded data removed]",
      "text/plain": [
       "<Figure size 1080x1080 with 1 Axes>"
      ]
     },
     "metadata": {
      "needs_background": "light",
      "tags": []
     },
     "output_type": "display_data"
    }
   ],
   "source": [
    "for _ in range(12):\n",
    "    obs, _, _, _ = env.step(env.action_space.sample())\n",
    "\n",
    "plt.figure(figsize=[12,10])\n",
    "plt.title(\"Game image\")\n",
    "plt.imshow(env.render(\"rgb_array\"))\n",
    "plt.show()\n",
    "\n",
    "plt.figure(figsize=[15,15])\n",
    "plt.title(\"Agent observation (4 frames top to bottom)\")\n",
    "plt.imshow(utils.img_by_obs(obs, state_shape), cmap=\"gray\")\n",
    "plt.show()"
   ]
  },
  {
   "cell_type": "markdown",
   "metadata": {
    "id": "QYEgnxJbfFIZ"
   },
   "source": [
    "## DQN as it is"
   ]
  },
  {
   "cell_type": "markdown",
   "metadata": {
    "id": "iHtyBmTMfFIZ"
   },
   "source": [
    "### Building a network\n",
    "\n",
    "We now need to build a neural network that can map images to state q-values. This network will be called on every agent's step so it better not be resnet-152 unless you have an array of GPUs. Instead, you can use strided convolutions with a small number of features to save time and memory.\n",
    "\n",
    "You can build any architecture you want, but for reference, here's something that will more or less work:"
   ]
  },
  {
   "cell_type": "markdown",
   "metadata": {
    "id": "p3StPIaJfFIa"
   },
   "source": [
    "![img](https://github.com/yandexdataschool/Practical_RL/raw/master/yet_another_week/_resource/dqn_arch.png)"
   ]
  },
  {
   "cell_type": "code",
   "execution_count": 13,
   "metadata": {
    "colab": {
     "base_uri": "https://localhost:8080/"
    },
    "id": "ngtLdiVnfFIa",
    "outputId": "ec1f51a3-e272-4a26-a918-d71e6a4f1942"
   },
   "outputs": [
    {
     "data": {
      "text/plain": [
       "device(type='cuda')"
      ]
     },
     "execution_count": 13,
     "metadata": {
      "tags": []
     },
     "output_type": "execute_result"
    }
   ],
   "source": [
    "import torch\n",
    "import torch.nn as nn\n",
    "device = torch.device(\"cuda\" if torch.cuda.is_available() else \"cpu\")\n",
    "# those who have a GPU but feel unfair to use it can uncomment:\n",
    "# device = torch.device(\"cpu\")\n",
    "device"
   ]
  },
  {
   "cell_type": "code",
   "execution_count": 14,
   "metadata": {
    "id": "sponamJJfFIb"
   },
   "outputs": [],
   "source": [
    "def conv2d_size_out(size, kernel_size, stride):\n",
    "    \"\"\"\n",
    "    common use case:\n",
    "    cur_layer_img_w = conv2d_size_out(cur_layer_img_w, kernel_size, stride)\n",
    "    cur_layer_img_h = conv2d_size_out(cur_layer_img_h, kernel_size, stride)\n",
    "    to understand the shape for dense layer's input\n",
    "    \"\"\"\n",
    "    return (size - (kernel_size - 1) - 1) // stride  + 1"
   ]
  },
  {
   "cell_type": "code",
   "execution_count": 15,
   "metadata": {
    "id": "XTB5OnpQfFIb"
   },
   "outputs": [],
   "source": [
    "class DQNAgent(nn.Module):\n",
    "    def __init__(self, state_shape, n_actions, epsilon=0):\n",
    "\n",
    "        super().__init__()\n",
    "        self.epsilon = epsilon\n",
    "        self.n_actions = n_actions\n",
    "        self.state_shape = state_shape\n",
    "\n",
    "        # Define your network body here. Please make sure agent is fully contained here\n",
    "        # nn.Flatten() can be useful\n",
    "        \n",
    "        self.network = nn.Sequential(\n",
    "            nn.Conv2d(in_channels=4, out_channels=16, kernel_size=[3, 3], stride=2),\n",
    "            nn.ReLU(), \n",
    "            nn.Conv2d(in_channels=16, out_channels=32, kernel_size=[3, 3], stride=2),\n",
    "            nn.ReLU(),\n",
    "            nn.Conv2d(in_channels=32, out_channels=64, kernel_size=[3, 3], stride=2),  \n",
    "            nn.ReLU(),\n",
    "            nn.Flatten(),\n",
    "            nn.Linear(in_features=49*64, out_features=256),\n",
    "            nn.ReLU(),\n",
    "            nn.Linear(in_features=256, out_features=n_actions))\n",
    "        \n",
    "        \n",
    "\n",
    "    def forward(self, state_t):\n",
    "        \"\"\"\n",
    "        takes agent's observation (tensor), returns qvalues (tensor)\n",
    "        :param state_t: a batch of 4-frame buffers, shape = [batch_size, 4, h, w]\n",
    "        \"\"\"\n",
    "        # Use your network to compute qvalues for given state\n",
    "        \n",
    "        qvalues = self.network(state_t)\n",
    "\n",
    "        assert qvalues.requires_grad, \"qvalues must be a torch tensor with grad\"\n",
    "        assert (\n",
    "            len(qvalues.shape) == 2 and \n",
    "            qvalues.shape[0] == state_t.shape[0] and \n",
    "            qvalues.shape[1] == n_actions\n",
    "        )\n",
    "\n",
    "        return qvalues\n",
    "\n",
    "    def get_qvalues(self, states):\n",
    "        \"\"\"\n",
    "        like forward, but works on numpy arrays, not tensors\n",
    "        \"\"\"\n",
    "        model_device = next(self.parameters()).device\n",
    "        states = torch.tensor(states, device=model_device, dtype=torch.float32)\n",
    "        qvalues = self.forward(states)\n",
    "        return qvalues.data.cpu().numpy()\n",
    "\n",
    "    def sample_actions(self, qvalues):\n",
    "        \"\"\"pick actions given qvalues. Uses epsilon-greedy exploration strategy. \"\"\"\n",
    "        epsilon = self.epsilon\n",
    "        batch_size, n_actions = qvalues.shape\n",
    "\n",
    "        random_actions = np.random.choice(n_actions, size=batch_size)\n",
    "        best_actions = qvalues.argmax(axis=-1)\n",
    "\n",
    "        should_explore = np.random.choice(\n",
    "            [0, 1], batch_size, p=[1-epsilon, epsilon])\n",
    "        return np.where(should_explore, random_actions, best_actions)"
   ]
  },
  {
   "cell_type": "code",
   "execution_count": 16,
   "metadata": {
    "id": "xUfKqNanfFIc"
   },
   "outputs": [],
   "source": [
    "agent = DQNAgent(state_shape, n_actions, epsilon=0.5).to(device)"
   ]
  },
  {
   "cell_type": "markdown",
   "metadata": {
    "id": "zBwwrTAxfFIc"
   },
   "source": [
    "Now let's try out our agent to see if it raises any errors."
   ]
  },
  {
   "cell_type": "code",
   "execution_count": 17,
   "metadata": {
    "id": "P4y0hy4OfFId"
   },
   "outputs": [],
   "source": [
    "def evaluate(env, agent, n_games=1, greedy=False, t_max=10000):\n",
    "    \"\"\" Plays n_games full games. If greedy, picks actions as argmax(qvalues). Returns mean reward. \"\"\"\n",
    "    rewards = []\n",
    "    for _ in range(n_games):\n",
    "        s = env.reset()\n",
    "        reward = 0\n",
    "        for _ in range(t_max):\n",
    "            qvalues = agent.get_qvalues([s])\n",
    "            action = qvalues.argmax(axis=-1)[0] if greedy else agent.sample_actions(qvalues)[0]\n",
    "            s, r, done, _ = env.step(action)\n",
    "            reward += r\n",
    "            if done:\n",
    "                break\n",
    "\n",
    "        rewards.append(reward)\n",
    "    return np.mean(rewards)"
   ]
  },
  {
   "cell_type": "code",
   "execution_count": 18,
   "metadata": {
    "colab": {
     "base_uri": "https://localhost:8080/"
    },
    "id": "_aCgF2safFId",
    "outputId": "6996f5a1-65c8-46d7-a770-31e0eb2f4bce"
   },
   "outputs": [
    {
     "data": {
      "text/plain": [
       "0.0"
      ]
     },
     "execution_count": 18,
     "metadata": {
      "tags": []
     },
     "output_type": "execute_result"
    }
   ],
   "source": [
    "evaluate(env, agent, n_games=1)"
   ]
  },
  {
   "cell_type": "markdown",
   "metadata": {
    "id": "GFDd8mAMfFId"
   },
   "source": [
    "### Experience replay\n",
    "For this assignment, we provide you with experience replay buffer.\n",
    "\n",
    "![img](https://github.com/yandexdataschool/Practical_RL/raw/master/yet_another_week/_resource/exp_replay.png)"
   ]
  },
  {
   "cell_type": "markdown",
   "metadata": {
    "id": "fALkCxazfFIe"
   },
   "source": [
    "#### The interface is fairly simple:\n",
    "* `exp_replay.add(obs, act, rw, next_obs, done)` - saves (s,a,r,s',done) tuple into the buffer\n",
    "* `exp_replay.sample(batch_size)` - returns observations, actions, rewards, next_observations and is_done for `batch_size` random samples.\n",
    "* `len(exp_replay)` - returns number of elements stored in replay buffer."
   ]
  },
  {
   "cell_type": "code",
   "execution_count": 19,
   "metadata": {
    "id": "zPxbhybQfFIe"
   },
   "outputs": [],
   "source": [
    "from replay_buffer import ReplayBuffer\n",
    "exp_replay = ReplayBuffer(10)\n",
    "\n",
    "for _ in range(30):\n",
    "    exp_replay.add(env.reset(), env.action_space.sample(), 1.0, env.reset(), done=False)\n",
    "\n",
    "obs_batch, act_batch, reward_batch, next_obs_batch, is_done_batch = exp_replay.sample(5)\n",
    "\n",
    "assert len(exp_replay) == 10, \"experience replay size should be 10 because that's what maximum capacity is\""
   ]
  },
  {
   "cell_type": "code",
   "execution_count": 20,
   "metadata": {
    "id": "x5qlp2FLfFIf"
   },
   "outputs": [],
   "source": [
    "def play_and_record(initial_state, agent, env, exp_replay, n_steps=1):\n",
    "    \"\"\"\n",
    "    Play the game for exactly n_steps, record every (s,a,r,s', done) to replay buffer. \n",
    "    Whenever game ends, add record with done=True and reset the game.\n",
    "    It is guaranteed that env has done=False when passed to this function.\n",
    "\n",
    "    PLEASE DO NOT RESET ENV UNLESS IT IS \"DONE\"\n",
    "\n",
    "    :returns: return sum of rewards over time and the state in which the env stays\n",
    "    \"\"\"\n",
    "    s = initial_state\n",
    "    sum_rewards = 0\n",
    "\n",
    "    # Play the game for n_steps as per instructions above\n",
    "    \n",
    "    for i in range(n_steps):\n",
    "        qvalues = agent.get_qvalues([s])\n",
    "        action = agent.sample_actions(qvalues)[0]\n",
    "        \n",
    "        next_state, reward, is_done, _ = env.step(action)\n",
    "        exp_replay.add(s, action, reward, next_state, is_done)    \n",
    "        s = next_state\n",
    "        sum_rewards += reward\n",
    "        \n",
    "        if is_done:\n",
    "            s = env.reset()\n",
    "\n",
    "    return sum_rewards, s"
   ]
  },
  {
   "cell_type": "code",
   "execution_count": 21,
   "metadata": {
    "colab": {
     "base_uri": "https://localhost:8080/"
    },
    "id": "WvzYmBfAfFIf",
    "outputId": "465f6729-69aa-4e00-b134-3734cfe5c77f"
   },
   "outputs": [
    {
     "name": "stdout",
     "output_type": "stream",
     "text": [
      "Well done!\n"
     ]
    }
   ],
   "source": [
    "# testing your code.\n",
    "exp_replay = ReplayBuffer(2000)\n",
    "\n",
    "state = env.reset()\n",
    "play_and_record(state, agent, env, exp_replay, n_steps=1000)\n",
    "\n",
    "# if you're using your own experience replay buffer, some of those tests may need correction.\n",
    "# just make sure you know what your code does\n",
    "assert len(exp_replay) == 1000, \\\n",
    "    \"play_and_record should have added exactly 1000 steps, \" \\\n",
    "    \"but instead added %i\" % len(exp_replay)\n",
    "is_dones = list(zip(*exp_replay._storage))[-1]\n",
    "\n",
    "assert 0 < np.mean(is_dones) < 0.1, \\\n",
    "    \"Please make sure you restart the game whenever it is 'done' and \" \\\n",
    "    \"record the is_done correctly into the buffer. Got %f is_done rate over \" \\\n",
    "    \"%i steps. [If you think it's your tough luck, just re-run the test]\" % (\n",
    "        np.mean(is_dones), len(exp_replay))\n",
    "\n",
    "for _ in range(100):\n",
    "    obs_batch, act_batch, reward_batch, next_obs_batch, is_done_batch = exp_replay.sample(10)\n",
    "    assert obs_batch.shape == next_obs_batch.shape == (10,) + state_shape\n",
    "    assert act_batch.shape == (10,), \\\n",
    "        \"actions batch should have shape (10,) but is instead %s\" % str(act_batch.shape)\n",
    "    assert reward_batch.shape == (10,), \\\n",
    "        \"rewards batch should have shape (10,) but is instead %s\" % str(reward_batch.shape)\n",
    "    assert is_done_batch.shape == (10,), \\\n",
    "        \"is_done batch should have shape (10,) but is instead %s\" % str(is_done_batch.shape)\n",
    "    assert [int(i) in (0, 1) for i in is_dones], \\\n",
    "        \"is_done should be strictly True or False\"\n",
    "    assert [0 <= a < n_actions for a in act_batch], \"actions should be within [0, n_actions)\"\n",
    "\n",
    "print(\"Well done!\")"
   ]
  },
  {
   "cell_type": "markdown",
   "metadata": {
    "id": "_8-D2GodfFIg"
   },
   "source": [
    "### Target networks\n",
    "\n",
    "We also employ the so called \"target network\" - a copy of neural network weights to be used for reference Q-values:\n",
    "\n",
    "The network itself is an exact copy of agent network, but it's parameters are not trained. Instead, they are moved here from agent's actual network every so often.\n",
    "\n",
    "$$ Q_{reference}(s,a) = r + \\gamma \\cdot \\max _{a'} Q_{target}(s',a') $$\n",
    "\n",
    "![img](https://github.com/yandexdataschool/Practical_RL/raw/master/yet_another_week/_resource/target_net.png)"
   ]
  },
  {
   "cell_type": "code",
   "execution_count": 22,
   "metadata": {
    "colab": {
     "base_uri": "https://localhost:8080/"
    },
    "id": "qU4GcfATfFIh",
    "outputId": "6de0802f-e8a7-43c1-c6e0-42aab750e756"
   },
   "outputs": [
    {
     "data": {
      "text/plain": [
       "<All keys matched successfully>"
      ]
     },
     "execution_count": 22,
     "metadata": {
      "tags": []
     },
     "output_type": "execute_result"
    }
   ],
   "source": [
    "target_network = DQNAgent(agent.state_shape, agent.n_actions, epsilon=0.5).to(device)\n",
    "# This is how you can load weights from agent into target network\n",
    "target_network.load_state_dict(agent.state_dict())"
   ]
  },
  {
   "cell_type": "markdown",
   "metadata": {
    "id": "IvCafJuofFIi"
   },
   "source": [
    "### Learning with... Q-learning\n",
    "Here we write a function similar to `agent.update` from tabular q-learning."
   ]
  },
  {
   "cell_type": "markdown",
   "metadata": {
    "id": "b1TiuhDPfFIi"
   },
   "source": [
    "Compute Q-learning TD error:\n",
    "\n",
    "$$ L = { 1 \\over N} \\sum_i [ Q_{\\theta}(s,a) - Q_{reference}(s,a) ] ^2 $$\n",
    "\n",
    "With Q-reference defined as\n",
    "\n",
    "$$ Q_{reference}(s,a) = r(s,a) + \\gamma \\cdot max_{a'} Q_{target}(s', a') $$\n",
    "\n",
    "Where\n",
    "* $Q_{target}(s',a')$ denotes Q-value of next state and next action predicted by __target_network__\n",
    "* $s, a, r, s'$ are current state, action, reward and next state respectively\n",
    "* $\\gamma$ is a discount factor defined two cells above.\n",
    "\n",
    "\n",
    "__Note 1:__ there's an example input below. Feel free to experiment with it before you write the function.\n",
    "\n",
    "__Note 2:__ compute_td_loss is a source of 99% of bugs in this homework. If reward doesn't improve, it often helps to go through it line by line [with a rubber duck](https://rubberduckdebugging.com/).\n"
   ]
  },
  {
   "cell_type": "code",
   "execution_count": 23,
   "metadata": {
    "id": "2M-0ie20fFIj"
   },
   "outputs": [],
   "source": [
    "def compute_td_loss(states, actions, rewards, next_states, is_done,\n",
    "                    agent, target_network,\n",
    "                    gamma=0.99,\n",
    "                    check_shapes=False,\n",
    "                    device=device):\n",
    "    \"\"\" Compute td loss using torch operations only. Use the formulae above. \"\"\"\n",
    "    states = torch.tensor(states, device=device, dtype=torch.float32)    # shape: [batch_size, *state_shape]\n",
    "    actions = torch.tensor(actions, device=device, dtype=torch.int64)    # shape: [batch_size]\n",
    "    rewards = torch.tensor(rewards, device=device, dtype=torch.float32)  # shape: [batch_size]\n",
    "    # shape: [batch_size, *state_shape]\n",
    "    next_states = torch.tensor(next_states, device=device, dtype=torch.float)\n",
    "    is_done = torch.tensor(\n",
    "        is_done.astype(\"float32\"),\n",
    "        device=device,\n",
    "        dtype=torch.float32,\n",
    "    )  # shape: [batch_size]\n",
    "    is_not_done = 1 - is_done\n",
    "\n",
    "    # get q-values for all actions in current states\n",
    "    predicted_qvalues = agent(states)  # shape: [batch_size, n_actions]\n",
    "\n",
    "    # compute q-values for all actions in next states\n",
    "    predicted_next_qvalues = target_network(next_states)  # shape: [batch_size, n_actions]\n",
    "    \n",
    "    # select q-values for chosen actions\n",
    "    predicted_qvalues_for_actions = predicted_qvalues[range(len(actions)), actions]  # shape: [batch_size]\n",
    "\n",
    "    # compute V*(next_states) using predicted next q-values\n",
    "    next_state_values = torch.max(predicted_next_qvalues, dim=1)[0] \n",
    "\n",
    "    assert next_state_values.dim() == 1 and next_state_values.shape[0] == states.shape[0], \\\n",
    "        \"must predict one value per state\"\n",
    "\n",
    "    # compute \"target q-values\" for loss - it's what's inside square parentheses in the above formula.\n",
    "    # at the last state use the simplified formula: Q(s,a) = r(s,a) since s' doesn't exist\n",
    "    # you can multiply next state values by is_not_done to achieve this.\n",
    "    target_qvalues_for_actions = gamma * next_state_values * is_not_done + rewards  \n",
    "\n",
    "    # mean squared error loss to minimize\n",
    "    loss = torch.mean((predicted_qvalues_for_actions - target_qvalues_for_actions.detach()) ** 2)\n",
    "\n",
    "    if check_shapes:\n",
    "        assert predicted_next_qvalues.data.dim() == 2, \\\n",
    "            \"make sure you predicted q-values for all actions in next state\"\n",
    "        assert next_state_values.data.dim() == 1, \\\n",
    "            \"make sure you computed V(s') as maximum over just the actions axis and not all axes\"\n",
    "        assert target_qvalues_for_actions.data.dim() == 1, \\\n",
    "            \"there's something wrong with target q-values, they must be a vector\"\n",
    "\n",
    "    return loss"
   ]
  },
  {
   "cell_type": "markdown",
   "metadata": {
    "id": "WK_FXl8TfFIj"
   },
   "source": [
    "Sanity checks"
   ]
  },
  {
   "cell_type": "code",
   "execution_count": 24,
   "metadata": {
    "id": "pSoODGz2fFIj"
   },
   "outputs": [],
   "source": [
    "obs_batch, act_batch, reward_batch, next_obs_batch, is_done_batch = exp_replay.sample(10)\n",
    "\n",
    "loss = compute_td_loss(obs_batch, act_batch, reward_batch, next_obs_batch, is_done_batch,\n",
    "                       agent, target_network,\n",
    "                       gamma=0.99, check_shapes=True)\n",
    "loss.backward()\n",
    "\n",
    "assert loss.requires_grad and tuple(loss.data.size()) == (), \\\n",
    "    \"you must return scalar loss - mean over batch\"\n",
    "assert np.any(next(agent.parameters()).grad.data.cpu().numpy() != 0), \\\n",
    "    \"loss must be differentiable w.r.t. network weights\"\n",
    "assert np.all(next(target_network.parameters()).grad is None), \\\n",
    "    \"target network should not have grads\""
   ]
  },
  {
   "cell_type": "markdown",
   "metadata": {
    "id": "FqAIINWLfFIk"
   },
   "source": [
    "## Main loop\n",
    "\n",
    "It's time to put everything together and see if it learns anything."
   ]
  },
  {
   "cell_type": "code",
   "execution_count": 25,
   "metadata": {
    "id": "HkAFwsZmfFIk"
   },
   "outputs": [],
   "source": [
    "from tqdm import trange\n",
    "from IPython.display import clear_output\n",
    "import matplotlib.pyplot as plt"
   ]
  },
  {
   "cell_type": "code",
   "execution_count": 26,
   "metadata": {
    "colab": {
     "base_uri": "https://localhost:8080/"
    },
    "id": "7WfZzyAOfFIk",
    "outputId": "6b3e8cc8-273a-4f72-e008-524fe8971aef"
   },
   "outputs": [
    {
     "data": {
      "text/plain": [
       "<torch._C.Generator at 0x7f90946ee930>"
      ]
     },
     "execution_count": 26,
     "metadata": {
      "tags": []
     },
     "output_type": "execute_result"
    }
   ],
   "source": [
    "seed = 21          \n",
    "random.seed(seed)\n",
    "np.random.seed(seed)\n",
    "torch.manual_seed(seed)"
   ]
  },
  {
   "cell_type": "code",
   "execution_count": 27,
   "metadata": {
    "colab": {
     "base_uri": "https://localhost:8080/"
    },
    "id": "ftyfK0NkfFIk",
    "outputId": "6d36886d-4ce0-4ac5-aa97-c06c3634a712"
   },
   "outputs": [
    {
     "data": {
      "text/plain": [
       "<All keys matched successfully>"
      ]
     },
     "execution_count": 27,
     "metadata": {
      "tags": []
     },
     "output_type": "execute_result"
    }
   ],
   "source": [
    "env = make_env(seed)\n",
    "state_shape = env.observation_space.shape\n",
    "n_actions = env.action_space.n\n",
    "state = env.reset()\n",
    "\n",
    "agent = DQNAgent(state_shape, n_actions, epsilon=1).to(device)\n",
    "target_network = DQNAgent(state_shape, n_actions).to(device)\n",
    "target_network.load_state_dict(agent.state_dict())"
   ]
  },
  {
   "cell_type": "markdown",
   "metadata": {
    "id": "hTEGTDWAfFIl"
   },
   "source": [
    "Buffer of size $10^4$ fits into 5 Gb RAM.\n",
    "\n",
    "Larger sizes ($10^5$ and $10^6$ are common) can be used. It can improve the learning, but $10^4$ is quite enough. $10^2$ will probably fail learning."
   ]
  },
  {
   "cell_type": "code",
   "execution_count": 28,
   "metadata": {
    "colab": {
     "base_uri": "https://localhost:8080/"
    },
    "id": "k-OewPECfFIl",
    "outputId": "cb4c3478-75b0-4190-a99c-d13c6ae0d233"
   },
   "outputs": [
    {
     "name": "stdout",
     "output_type": "stream",
     "text": [
      "10000\n"
     ]
    }
   ],
   "source": [
    "REPLAY_BUFFER_SIZE = 10**4\n",
    "N_STEPS = 100\n",
    "\n",
    "exp_replay = ReplayBuffer(REPLAY_BUFFER_SIZE)\n",
    "for i in range(REPLAY_BUFFER_SIZE // N_STEPS):\n",
    "    if not utils.is_enough_ram(min_available_gb=0.1):\n",
    "        print(\"\"\"\n",
    "            Less than 100 Mb RAM available. \n",
    "            Make sure the buffer size in not too huge.\n",
    "            Also check, maybe other processes consume RAM heavily.\n",
    "            \"\"\"\n",
    "             )\n",
    "        break\n",
    "    play_and_record(state, agent, env, exp_replay, n_steps=N_STEPS)\n",
    "    if len(exp_replay) == REPLAY_BUFFER_SIZE:\n",
    "        break\n",
    "print(len(exp_replay))"
   ]
  },
  {
   "cell_type": "code",
   "execution_count": 29,
   "metadata": {
    "id": "A1EghoGWfFIl"
   },
   "outputs": [],
   "source": [
    "timesteps_per_epoch = 1\n",
    "batch_size = 16\n",
    "total_steps = 3 * 10**6\n",
    "decay_steps = 10**6\n",
    "\n",
    "opt = torch.optim.Adam(agent.parameters(), lr=1e-4)\n",
    "\n",
    "init_epsilon = 1\n",
    "final_epsilon = 0.1\n",
    "\n",
    "loss_freq = 50\n",
    "refresh_target_network_freq = 5000\n",
    "eval_freq = 5000\n",
    "\n",
    "max_grad_norm = 50\n",
    "\n",
    "n_lives = 5"
   ]
  },
  {
   "cell_type": "code",
   "execution_count": 30,
   "metadata": {
    "id": "dRvKjCbzfFIl"
   },
   "outputs": [],
   "source": [
    "mean_rw_history = []\n",
    "td_loss_history = []\n",
    "grad_norm_history = []\n",
    "initial_state_v_history = []\n",
    "step = 0"
   ]
  },
  {
   "cell_type": "code",
   "execution_count": 31,
   "metadata": {
    "id": "w4DlpqM_fFIm"
   },
   "outputs": [],
   "source": [
    "import time\n",
    "\n",
    "def wait_for_keyboard_interrupt():\n",
    "    try:\n",
    "        while True:\n",
    "            time.sleep(1)\n",
    "    except KeyboardInterrupt:\n",
    "        pass"
   ]
  },
  {
   "cell_type": "code",
   "execution_count": 32,
   "metadata": {
    "colab": {
     "base_uri": "https://localhost:8080/",
     "height": 940
    },
    "id": "KuGWbgrmfFIm",
    "outputId": "b20c3063-6fd8-4c43-ccc0-1d1b1e4bcea0"
   },
   "outputs": [
    {
     "name": "stdout",
     "output_type": "stream",
     "text": [
      "buffer size = 10000, epsilon = 0.33400\n"
     ]
    },
    {
     "data": {
      "image/png": "[encoded data removed]",
      "text/plain": [
       "<Figure size 1152x648 with 4 Axes>"
      ]
     },
     "metadata": {
      "needs_background": "light",
      "tags": []
     },
     "output_type": "display_data"
    },
    {
     "name": "stderr",
     "output_type": "stream",
     "text": [
      " 25%|██▍       | 744999/3000001 [2:19:43<7:02:56, 88.86it/s] \n"
     ]
    },
    {
     "ename": "KeyboardInterrupt",
     "evalue": "ignored",
     "output_type": "error",
     "traceback": [
      "\u001b[0;31m---------------------------------------------------------------------------\u001b[0m",
      "\u001b[0;31mKeyboardInterrupt\u001b[0m                         Traceback (most recent call last)",
      "\u001b[0;32m<ipython-input-32-00d7059bb3c6>\u001b[0m in \u001b[0;36m<module>\u001b[0;34m()\u001b[0m\n\u001b[1;32m     33\u001b[0m         \u001b[0;32mif\u001b[0m \u001b[0mstep\u001b[0m \u001b[0;34m%\u001b[0m \u001b[0meval_freq\u001b[0m \u001b[0;34m==\u001b[0m \u001b[0;36m0\u001b[0m\u001b[0;34m:\u001b[0m\u001b[0;34m\u001b[0m\u001b[0;34m\u001b[0m\u001b[0m\n\u001b[1;32m     34\u001b[0m             mean_rw_history.append(evaluate(\n\u001b[0;32m---> 35\u001b[0;31m                 make_env(clip_rewards=True, seed=step), agent, n_games=3 * n_lives, greedy=True)\n\u001b[0m\u001b[1;32m     36\u001b[0m             )\n\u001b[1;32m     37\u001b[0m             initial_state_q_values = agent.get_qvalues(\n",
      "\u001b[0;32m<ipython-input-17-93ef57a33c63>\u001b[0m in \u001b[0;36mevaluate\u001b[0;34m(env, agent, n_games, greedy, t_max)\u001b[0m\n\u001b[1;32m      6\u001b[0m         \u001b[0mreward\u001b[0m \u001b[0;34m=\u001b[0m \u001b[0;36m0\u001b[0m\u001b[0;34m\u001b[0m\u001b[0;34m\u001b[0m\u001b[0m\n\u001b[1;32m      7\u001b[0m         \u001b[0;32mfor\u001b[0m \u001b[0m_\u001b[0m \u001b[0;32min\u001b[0m \u001b[0mrange\u001b[0m\u001b[0;34m(\u001b[0m\u001b[0mt_max\u001b[0m\u001b[0;34m)\u001b[0m\u001b[0;34m:\u001b[0m\u001b[0;34m\u001b[0m\u001b[0;34m\u001b[0m\u001b[0m\n\u001b[0;32m----> 8\u001b[0;31m             \u001b[0mqvalues\u001b[0m \u001b[0;34m=\u001b[0m \u001b[0magent\u001b[0m\u001b[0;34m.\u001b[0m\u001b[0mget_qvalues\u001b[0m\u001b[0;34m(\u001b[0m\u001b[0;34m[\u001b[0m\u001b[0ms\u001b[0m\u001b[0;34m]\u001b[0m\u001b[0;34m)\u001b[0m\u001b[0;34m\u001b[0m\u001b[0;34m\u001b[0m\u001b[0m\n\u001b[0m\u001b[1;32m      9\u001b[0m             \u001b[0maction\u001b[0m \u001b[0;34m=\u001b[0m \u001b[0mqvalues\u001b[0m\u001b[0;34m.\u001b[0m\u001b[0margmax\u001b[0m\u001b[0;34m(\u001b[0m\u001b[0maxis\u001b[0m\u001b[0;34m=\u001b[0m\u001b[0;34m-\u001b[0m\u001b[0;36m1\u001b[0m\u001b[0;34m)\u001b[0m\u001b[0;34m[\u001b[0m\u001b[0;36m0\u001b[0m\u001b[0;34m]\u001b[0m \u001b[0;32mif\u001b[0m \u001b[0mgreedy\u001b[0m \u001b[0;32melse\u001b[0m \u001b[0magent\u001b[0m\u001b[0;34m.\u001b[0m\u001b[0msample_actions\u001b[0m\u001b[0;34m(\u001b[0m\u001b[0mqvalues\u001b[0m\u001b[0;34m)\u001b[0m\u001b[0;34m[\u001b[0m\u001b[0;36m0\u001b[0m\u001b[0;34m]\u001b[0m\u001b[0;34m\u001b[0m\u001b[0;34m\u001b[0m\u001b[0m\n\u001b[1;32m     10\u001b[0m             \u001b[0ms\u001b[0m\u001b[0;34m,\u001b[0m \u001b[0mr\u001b[0m\u001b[0;34m,\u001b[0m \u001b[0mdone\u001b[0m\u001b[0;34m,\u001b[0m \u001b[0m_\u001b[0m \u001b[0;34m=\u001b[0m \u001b[0menv\u001b[0m\u001b[0;34m.\u001b[0m\u001b[0mstep\u001b[0m\u001b[0;34m(\u001b[0m\u001b[0maction\u001b[0m\u001b[0;34m)\u001b[0m\u001b[0;34m\u001b[0m\u001b[0;34m\u001b[0m\u001b[0m\n",
      "\u001b[0;32m<ipython-input-15-ccde59cc41ca>\u001b[0m in \u001b[0;36mget_qvalues\u001b[0;34m(self, states)\u001b[0m\n\u001b[1;32m     47\u001b[0m         \"\"\"\n\u001b[1;32m     48\u001b[0m         \u001b[0mmodel_device\u001b[0m \u001b[0;34m=\u001b[0m \u001b[0mnext\u001b[0m\u001b[0;34m(\u001b[0m\u001b[0mself\u001b[0m\u001b[0;34m.\u001b[0m\u001b[0mparameters\u001b[0m\u001b[0;34m(\u001b[0m\u001b[0;34m)\u001b[0m\u001b[0;34m)\u001b[0m\u001b[0;34m.\u001b[0m\u001b[0mdevice\u001b[0m\u001b[0;34m\u001b[0m\u001b[0;34m\u001b[0m\u001b[0m\n\u001b[0;32m---> 49\u001b[0;31m         \u001b[0mstates\u001b[0m \u001b[0;34m=\u001b[0m \u001b[0mtorch\u001b[0m\u001b[0;34m.\u001b[0m\u001b[0mtensor\u001b[0m\u001b[0;34m(\u001b[0m\u001b[0mstates\u001b[0m\u001b[0;34m,\u001b[0m \u001b[0mdevice\u001b[0m\u001b[0;34m=\u001b[0m\u001b[0mmodel_device\u001b[0m\u001b[0;34m,\u001b[0m \u001b[0mdtype\u001b[0m\u001b[0;34m=\u001b[0m\u001b[0mtorch\u001b[0m\u001b[0;34m.\u001b[0m\u001b[0mfloat32\u001b[0m\u001b[0;34m)\u001b[0m\u001b[0;34m\u001b[0m\u001b[0;34m\u001b[0m\u001b[0m\n\u001b[0m\u001b[1;32m     50\u001b[0m         \u001b[0mqvalues\u001b[0m \u001b[0;34m=\u001b[0m \u001b[0mself\u001b[0m\u001b[0;34m.\u001b[0m\u001b[0mforward\u001b[0m\u001b[0;34m(\u001b[0m\u001b[0mstates\u001b[0m\u001b[0;34m)\u001b[0m\u001b[0;34m\u001b[0m\u001b[0;34m\u001b[0m\u001b[0m\n\u001b[1;32m     51\u001b[0m         \u001b[0;32mreturn\u001b[0m \u001b[0mqvalues\u001b[0m\u001b[0;34m.\u001b[0m\u001b[0mdata\u001b[0m\u001b[0;34m.\u001b[0m\u001b[0mcpu\u001b[0m\u001b[0;34m(\u001b[0m\u001b[0;34m)\u001b[0m\u001b[0;34m.\u001b[0m\u001b[0mnumpy\u001b[0m\u001b[0;34m(\u001b[0m\u001b[0;34m)\u001b[0m\u001b[0;34m\u001b[0m\u001b[0;34m\u001b[0m\u001b[0m\n",
      "\u001b[0;31mKeyboardInterrupt\u001b[0m: "
     ]
    }
   ],
   "source": [
    "state = env.reset()\n",
    "with trange(step, total_steps + 1) as progress_bar:\n",
    "    for step in progress_bar:\n",
    "        if not utils.is_enough_ram():\n",
    "            print(\"less that 100 Mb RAM available, freezing\")\n",
    "            print(\"make sure everything is ok and use KeyboardInterrupt to continue\")\n",
    "            wait_for_keyboard_interrupt()\n",
    "\n",
    "        agent.epsilon = utils.linear_decay(init_epsilon, final_epsilon, step, decay_steps)\n",
    "\n",
    "        # play\n",
    "        _, state = play_and_record(state, agent, env, exp_replay, timesteps_per_epoch)\n",
    "\n",
    "        # train\n",
    "        st, act, rew, next_st, i_done = exp_replay.sample(batch_size)\n",
    "\n",
    "        loss = compute_td_loss(st, act, rew, next_st, i_done, agent, target_network)\n",
    "\n",
    "        loss.backward()\n",
    "        grad_norm = nn.utils.clip_grad_norm_(agent.parameters(), max_grad_norm)\n",
    "        opt.step()\n",
    "        opt.zero_grad()\n",
    "\n",
    "        if step % loss_freq == 0:\n",
    "            td_loss_history.append(loss.data.cpu().item())\n",
    "            grad_norm_history.append(grad_norm)\n",
    "\n",
    "        if step % refresh_target_network_freq == 0:\n",
    "            # Load agent weights into target_network\n",
    "            target_network.load_state_dict(agent.state_dict()) \n",
    "        \n",
    "\n",
    "        if step % eval_freq == 0:\n",
    "            mean_rw_history.append(evaluate(\n",
    "                make_env(clip_rewards=True, seed=step), agent, n_games=3 * n_lives, greedy=True)\n",
    "            )\n",
    "            initial_state_q_values = agent.get_qvalues(\n",
    "                [make_env(seed=step).reset()]\n",
    "            )\n",
    "            initial_state_v_history.append(np.max(initial_state_q_values))\n",
    "\n",
    "            clear_output(True)\n",
    "            print(\"buffer size = %i, epsilon = %.5f\" %\n",
    "                (len(exp_replay), agent.epsilon))\n",
    "\n",
    "            plt.figure(figsize=[16, 9])\n",
    "\n",
    "            plt.subplot(2, 2, 1)\n",
    "            plt.title(\"Mean reward per life\")\n",
    "            plt.plot(mean_rw_history)\n",
    "            plt.grid()\n",
    "\n",
    "            assert not np.isnan(td_loss_history[-1])\n",
    "            plt.subplot(2, 2, 2)\n",
    "            plt.title(\"TD loss history (smoothened)\")\n",
    "            plt.plot(utils.smoothen(td_loss_history))\n",
    "            plt.grid()\n",
    "\n",
    "            plt.subplot(2, 2, 3)\n",
    "            plt.title(\"Initial state V\")\n",
    "            plt.plot(initial_state_v_history)\n",
    "            plt.grid()\n",
    "\n",
    "            plt.subplot(2, 2, 4)\n",
    "            plt.title(\"Grad norm history (smoothened)\")\n",
    "            plt.plot(utils.smoothen(grad_norm_history))\n",
    "            plt.grid()\n",
    "\n",
    "            plt.show()"
   ]
  },
  {
   "cell_type": "markdown",
   "metadata": {
    "id": "1eTZcaJufFIm"
   },
   "source": [
    "Agent is evaluated for 1 life, not for a whole episode of 5 lives. Rewards in evaluation are also truncated. Cuz this is what environment the agent is learning in and in this way mean rewards per life can be compared with initial state value\n",
    "\n",
    "**The goal is to get 15 points in the real env**. So 3 or better 4 points in the preprocessed one will probably be enough. You can interrupt learning then."
   ]
  },
  {
   "cell_type": "markdown",
   "metadata": {
    "id": "95p9SS8jfFIm"
   },
   "source": [
    "Final scoring is done on a whole episode with all 5 lives."
   ]
  },
  {
   "cell_type": "code",
   "execution_count": 33,
   "metadata": {
    "colab": {
     "base_uri": "https://localhost:8080/"
    },
    "id": "kK1Bem3FfFIn",
    "outputId": "d395485b-bc81-4b4f-eb48-f7a2b8261ae7"
   },
   "outputs": [
    {
     "name": "stdout",
     "output_type": "stream",
     "text": [
      "final score: 27.0\n",
      "Cool!\n"
     ]
    }
   ],
   "source": [
    "final_score = evaluate(\n",
    "  make_env(clip_rewards=False, seed=9),\n",
    "    agent, n_games=30, greedy=True, t_max=10 * 1000\n",
    ") * n_lives\n",
    "print(\"final score:\", final_score)\n",
    "assert final_score >= 15, \"not as cool as DQN can\"\n",
    "print(\"Cool!\")"
   ]
  },
  {
   "cell_type": "markdown",
   "metadata": {
    "id": "Ztq-isCKfFIn"
   },
   "source": [
    "## How to interpret plots:\n",
    "\n",
    "This aint no supervised learning so don't expect anything to improve monotonously. \n",
    "* **TD loss** is the MSE between agent's current Q-values and target Q-values. It may slowly increase or decrease, it's ok. The \"not ok\" behavior includes going NaN or stayng at exactly zero before agent has perfect performance.\n",
    "* **grad norm** just shows the intensivity of training. Not ok is growing to values of about 100 (or maybe even 50) though it depends on network architecture.\n",
    "* **mean reward** is the expected sum of r(s,a) agent gets over the full game session. It will oscillate, but on average it should get higher over time (after a few thousand iterations...). \n",
    " * In basic q-learning implementation it takes about 40k steps to \"warm up\" agent before it starts to get better.\n",
    "* **Initial state V** is the expected discounted reward for episode in the oppinion of the agent. It should behave more smoothly than **mean reward**. It should get higher over time but sometimes can experience drawdowns because of the agaent's overestimates.\n",
    "* **buffer size** - this one is simple. It should go up and cap at max size.\n",
    "* **epsilon** - agent's willingness to explore. If you see that agent's already at 0.01 epsilon before it's average reward is above 0 - it means you need to increase epsilon. Set it back to some 0.2 - 0.5 and decrease the pace at which it goes down.\n",
    "* Smoothing of plots is done with a gaussian kernel\n",
    "\n",
    "At first your agent will lose quickly. Then it will learn to suck less and at least hit the ball a few times before it loses. Finally it will learn to actually score points.\n",
    "\n",
    "**Training will take time.** A lot of it actually. Probably you will not see any improvment during first **150k** time steps (note that by default in this notebook agent is evaluated every 5000 time steps).\n",
    "\n",
    "But hey, long training time isn't _that_ bad:\n",
    "![img](https://github.com/yandexdataschool/Practical_RL/raw/master/yet_another_week/_resource/training.png)"
   ]
  },
  {
   "cell_type": "markdown",
   "metadata": {
    "id": "s0F2GwjefFIn"
   },
   "source": [
    "\n",
    "## About hyperparameters:\n",
    "\n",
    "The task has something in common with supervised learning: loss is optimized through the buffer (instead of Train dataset). But the distribution of states and actions in the buffer **is not stationary** and depends on the policy that generated it. It can even happen that the mean TD error across the buffer is very low but the performance is extremely poor (imagine the agent collecting data to the buffer always manages to avoid the ball).\n",
    "\n",
    "* Total timesteps and training time: It seems to be so huge, but actually it is normal for RL.\n",
    "\n",
    "* $\\epsilon$ decay shedule was taken from the original paper and is like traditional for epsilon-greedy policies. At the beginning of the training the agent's greedy policy is poor so many random actions should be taken.\n",
    "\n",
    "* Optimizer: In the original paper RMSProp was used (they did not have Adam in 2013) and it can work not worse than Adam. For us Adam was default and it worked.\n",
    "\n",
    "* lr: $10^{-3}$ would probably be too huge\n",
    "\n",
    "* batch size: This one can be very important: if it is too small the agent can fail to learn. Huge batch takes more time to process. If batch of size 8 can not be processed on the hardware you use take 2 (or even 4) batches of size 4, divide the loss on them by 2 (or 4) and make optimization step after both backward() calls in torch.\n",
    "\n",
    "* target network update frequency: has something in common with learning rate. Too frequent updates can lead to divergence. Too rare can lead to slow leraning. For millions of total timesteps thousands of inner steps seem ok. One iteration of target network updating is an iteration of the (this time approximate) $\\gamma$-compression that stands behind Q-learning. The more inner steps it makes the more accurate is the compression.\n",
    "* max_grad_norm - just huge enough. In torch clip_grad_norm also evaluates the norm before clipping and it can be convenient for logging."
   ]
  },
  {
   "cell_type": "markdown",
   "metadata": {
    "id": "An1-Wi7ZfFIo"
   },
   "source": [
    "### Video"
   ]
  },
  {
   "cell_type": "code",
   "execution_count": 34,
   "metadata": {
    "id": "i-jYo-BbfFIo"
   },
   "outputs": [],
   "source": [
    "# Record sessions\n",
    "\n",
    "import gym.wrappers\n",
    "\n",
    "with gym.wrappers.Monitor(make_env(), directory=\"videos\", force=True) as env_monitor:\n",
    "    sessions = [evaluate(env_monitor, agent, n_games=n_lives, greedy=True) for _ in range(10)]"
   ]
  },
  {
   "cell_type": "code",
   "execution_count": 35,
   "metadata": {
    "colab": {
     "base_uri": "https://localhost:8080/",
     "height": 501
    },
    "id": "BXRBcRxefFIo",
    "outputId": "94c9d944-9925-43ab-a25b-8cef7a92b704"
   },
   "outputs": [
    {
     "data": {
      "text/html": [
       "\n",
       "<video width=\"640\" height=\"480\" controls>\n",
       "  <source src=\"data:video/mp4;base64,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\" type=\"video/mp4\">\n",
       "</video>\n"
      ],
      "text/plain": [
       "<IPython.core.display.HTML object>"
      ]
     },
     "execution_count": 35,
     "metadata": {
      "tags": []
     },
     "output_type": "execute_result"
    }
   ],
   "source": [
    "# Show video. This may not work in some setups. If it doesn't\n",
    "# work for you, you can download the videos and view them locally.\n",
    "\n",
    "from pathlib import Path\n",
    "from base64 import b64encode\n",
    "from IPython.display import HTML\n",
    "\n",
    "video_paths = sorted([s for s in Path(\"videos\").iterdir() if s.suffix == \".mp4\"])\n",
    "video_path = video_paths[-1]  # You can also try other indices\n",
    "\n",
    "if \"google.colab\" in sys.modules:\n",
    "    # https://stackoverflow.com/a/57378660/1214547\n",
    "    with video_path.open(\"rb\") as fp:\n",
    "        mp4 = fp.read()\n",
    "    data_url = \"data:video/mp4;base64,\" + b64encode(mp4).decode()\n",
    "else:\n",
    "    data_url = str(video_path)\n",
    "\n",
    "HTML(\"\"\"\n",
    "<video width=\"640\" height=\"480\" controls>\n",
    "  <source src=\"{}\" type=\"video/mp4\">\n",
    "</video>\n",
    "\"\"\".format(data_url))"
   ]
  },
  {
   "cell_type": "markdown",
   "metadata": {
    "id": "57jgCPmUfFIp"
   },
   "source": [
    "## Let's have a closer look at this.\n",
    "\n",
    "If average episode score is below 200 using all 5 lives, then probably DQN has not converged fully. But anyway let's make a more complete record of an episode."
   ]
  },
  {
   "cell_type": "code",
   "execution_count": 36,
   "metadata": {
    "colab": {
     "base_uri": "https://localhost:8080/"
    },
    "id": "7JBeg7RGfFIp",
    "outputId": "ea212c3d-68a1-4dbe-e45c-bf63f1baf962"
   },
   "outputs": [
    {
     "name": "stdout",
     "output_type": "stream",
     "text": [
      "total reward for life: 5.0\n",
      "states\n",
      "v_mc\n",
      "v_agent\n",
      "q_spreads\n",
      "td_errors\n",
      "rewards\n",
      "episode_finished\n"
     ]
    }
   ],
   "source": [
    "eval_env = make_env(clip_rewards=False)\n",
    "record = utils.play_and_log_episode(eval_env, agent)\n",
    "print(\"total reward for life:\", np.sum(record[\"rewards\"]))\n",
    "for key in record:\n",
    "    print(key)"
   ]
  },
  {
   "cell_type": "code",
   "execution_count": 37,
   "metadata": {
    "colab": {
     "base_uri": "https://localhost:8080/",
     "height": 350
    },
    "id": "qjchygB9fFIp",
    "outputId": "52ac2dfd-6426-43df-8997-2d773df7d5c9"
   },
   "outputs": [
    {
     "data": {
      "image/png": "[encoded data removed]",
      "text/plain": [
       "<Figure size 360x360 with 1 Axes>"
      ]
     },
     "metadata": {
      "needs_background": "light",
      "tags": []
     },
     "output_type": "display_data"
    }
   ],
   "source": [
    "fig = plt.figure(figsize=(5, 5))\n",
    "ax = fig.add_subplot(1, 1, 1)\n",
    "\n",
    "ax.scatter(record[\"v_mc\"], record[\"v_agent\"])\n",
    "ax.plot(sorted(record['v_mc']), sorted(record[\"v_mc\"]),\n",
    "       \"black\", linestyle='--', label=\"x=y\")\n",
    "\n",
    "ax.grid()\n",
    "ax.legend()\n",
    "ax.set_title(\"State Value Estimates\")\n",
    "ax.set_xlabel(\"Monte-Carlo\")\n",
    "ax.set_ylabel(\"Agent\")\n",
    "\n",
    "plt.show()"
   ]
  },
  {
   "cell_type": "markdown",
   "metadata": {
    "id": "ZVen8zl2fFIq"
   },
   "source": [
    "$\\hat V_{Monte-Carlo}(s_t) = \\sum_{\\tau=0}^{episode~end} \\gamma^{\\tau-t}r_t$"
   ]
  },
  {
   "cell_type": "markdown",
   "metadata": {
    "id": "P3RuHayQfFIq"
   },
   "source": [
    "Is there a big bias? It's ok, anyway it works."
   ]
  },
  {
   "cell_type": "code",
   "execution_count": null,
   "metadata": {
    "id": "e9luTs7hfFIr"
   },
   "outputs": [],
   "source": []
  }
 ],
 "metadata": {
  "accelerator": "GPU",
  "colab": {
   "collapsed_sections": [],
   "name": "3fin.ipynb",
   "provenance": []
  },
  "kernelspec": {
   "display_name": "Python 3",
   "language": "python",
   "name": "python3"
  },
  "language_info": {
   "codemirror_mode": {
    "name": "ipython",
    "version": 3
   },
   "file_extension": ".py",
   "mimetype": "text/x-python",
   "name": "python",
   "nbconvert_exporter": "python",
   "pygments_lexer": "ipython3",
   "version": "3.8.3"
  }
 },
 "nbformat": 4,
 "nbformat_minor": 1
}
